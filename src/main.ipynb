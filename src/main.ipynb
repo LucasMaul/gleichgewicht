{
 "cells": [
  {
   "cell_type": "code",
   "execution_count": null,
   "metadata": {},
   "outputs": [],
   "source": [
    "%matplotlib\n"
   ]
  },
  {
   "cell_type": "code",
   "execution_count": 1,
   "metadata": {},
   "outputs": [
    {
     "name": "stdout",
     "output_type": "stream",
     "text": [
      "Using matplotlib backend: <object object at 0x000002628F6EE4F0>\n",
      "Das System hat keine Auflagermomente\n"
     ]
    },
    {
     "data": {
      "text/latex": [
       "$\\displaystyle R_{(0, 0, 0)} = -50.0$"
      ],
      "text/plain": [
       "Eq(R_(0, 0, 0), -50.0)"
      ]
     },
     "metadata": {},
     "output_type": "display_data"
    },
    {
     "data": {
      "text/latex": [
       "$\\displaystyle R_{(0, 0, 90)} = 5.79$"
      ],
      "text/plain": [
       "Eq(R_(0, 0, 90), 5.79)"
      ]
     },
     "metadata": {},
     "output_type": "display_data"
    },
    {
     "data": {
      "text/latex": [
       "$\\displaystyle R_{(10, 0, 90)} = 63.21$"
      ],
      "text/plain": [
       "Eq(R_(10, 0, 90), 63.21)"
      ]
     },
     "metadata": {},
     "output_type": "display_data"
    }
   ],
   "source": [
    "import actions as ac\n",
    "import reactions as re\n",
    "import structure as st\n",
    "\n",
    "einwirkungen_kraefte = [ac.Force(-15,90, 1.5,0), ac.Force(50, 90, 3,0), ac.Force(-104, 90, 7.4, 0), ac.Force(50, 0,10,0)]\n",
    "einwirkungen_momente = [ac.Moment(10, 0,0)]\n",
    "reaktionen_kraefte = [re.Force(90, 0, 0), re.Force(90, 10,0), re.Force(0,0,0)]\n",
    "\n",
    "system_1 = st.System(actionforces=einwirkungen_kraefte, reactionforces=reaktionen_kraefte, actionmoments=einwirkungen_momente)\n",
    "system_1.calculate_reaction_force()\n",
    "\n",
    "\n",
    "st.Plot(system_1).plot_forces_and_moments()\n"
   ]
  },
  {
   "cell_type": "code",
   "execution_count": 2,
   "metadata": {},
   "outputs": [
    {
     "name": "stdout",
     "output_type": "stream",
     "text": [
      "Das System hat keine Auflagermomente\n"
     ]
    },
    {
     "data": {
      "text/latex": [
       "$\\displaystyle R_{(0, 0, 0)} = -50.0$"
      ],
      "text/plain": [
       "Eq(R_(0, 0, 0), -50.0)"
      ]
     },
     "metadata": {},
     "output_type": "display_data"
    },
    {
     "data": {
      "text/latex": [
       "$\\displaystyle R_{(0, 0, 90)} = -28.66$"
      ],
      "text/plain": [
       "Eq(R_(0, 0, 90), -28.66)"
      ]
     },
     "metadata": {},
     "output_type": "display_data"
    },
    {
     "data": {
      "text/latex": [
       "$\\displaystyle R_{(10, 0, 90)} = 60.66$"
      ],
      "text/plain": [
       "Eq(R_(10, 0, 90), 60.66)"
      ]
     },
     "metadata": {},
     "output_type": "display_data"
    }
   ],
   "source": [
    "einwirkungen_kraefte = [ac.Force(22,90, 1.5,0), ac.Force(50, 90, 3,0), ac.Force(-104, 90, 7.4, 0), ac.Force(50, 0,10,0)]\n",
    "einwirkungen_momente = [ac.Moment(10, 0,0), ac.Moment(-30, 10,0)]\n",
    "reaktionen_kraefte = [re.Force(90, 0, 0), re.Force(90, 10,0), re.Force(0,0,0)]\n",
    "\n",
    "system_2 = st.System(actionforces=einwirkungen_kraefte, reactionforces=reaktionen_kraefte, actionmoments=einwirkungen_momente)\n",
    "system_2.calculate_reaction_force()\n",
    "\n",
    "\n",
    "st.Plot(system_2).plot_forces_and_moments()"
   ]
  },
  {
   "cell_type": "code",
   "execution_count": 3,
   "metadata": {},
   "outputs": [
    {
     "name": "stdout",
     "output_type": "stream",
     "text": [
      "Das System hat keine Auflagermomente\n"
     ]
    },
    {
     "data": {
      "text/latex": [
       "$\\displaystyle R_{(0, 0, 0)} = 9.9$"
      ],
      "text/plain": [
       "Eq(R_(0, 0, 0), 9.9)"
      ]
     },
     "metadata": {},
     "output_type": "display_data"
    },
    {
     "data": {
      "text/latex": [
       "$\\displaystyle R_{(0, 0, 90)} = 7.32$"
      ],
      "text/plain": [
       "Eq(R_(0, 0, 90), 7.32)"
      ]
     },
     "metadata": {},
     "output_type": "display_data"
    },
    {
     "data": {
      "text/latex": [
       "$\\displaystyle R_{(10, 0, 90)} = 1.48$"
      ],
      "text/plain": [
       "Eq(R_(10, 0, 90), 1.48)"
      ]
     },
     "metadata": {},
     "output_type": "display_data"
    },
    {
     "ename": "",
     "evalue": "",
     "output_type": "error",
     "traceback": [
      "\u001b[1;31mThe Kernel crashed while executing code in the the current cell or a previous cell. Please review the code in the cell(s) to identify a possible cause of the failure. Click <a href='https://aka.ms/vscodeJupyterKernelCrash'>here</a> for more info. View Jupyter <a href='command:jupyter.viewOutput'>log</a> for further details."
     ]
    }
   ],
   "source": [
    "einwirkungen_kraefte = [ac.Force(-22,32, 1.5,0), ac.Force(3, 22, 3,3), ac.Force(-0, 90, 7.4, 5), ac.Force(5, 12,10,0)]\n",
    "einwirkungen_momente = [ac.Moment(10, 0,0), ac.Moment(-30, 10,0)]\n",
    "reaktionen_kraefte = [re.Force(90, 0, 0), re.Force(90, 10,0), re.Force(0,0,0)]\n",
    "\n",
    "system_3 = st.System(actionforces=einwirkungen_kraefte, reactionforces=reaktionen_kraefte, actionmoments=einwirkungen_momente)\n",
    "system_3.calculate_reaction_force()\n",
    "\n",
    "\n",
    "st.Plot(system_3).plot_forces_and_moments()"
   ]
  }
 ],
 "metadata": {
  "kernelspec": {
   "display_name": "bs1",
   "language": "python",
   "name": "python3"
  },
  "language_info": {
   "codemirror_mode": {
    "name": "ipython",
    "version": 3
   },
   "file_extension": ".py",
   "mimetype": "text/x-python",
   "name": "python",
   "nbconvert_exporter": "python",
   "pygments_lexer": "ipython3",
   "version": "3.10.12"
  },
  "orig_nbformat": 4
 },
 "nbformat": 4,
 "nbformat_minor": 2
}
