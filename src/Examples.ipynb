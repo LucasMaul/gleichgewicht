{
 "cells": [
  {
   "cell_type": "code",
   "execution_count": 1,
   "metadata": {},
   "outputs": [],
   "source": [
    "%matplotlib qt"
   ]
  },
  {
   "cell_type": "code",
   "execution_count": 2,
   "metadata": {},
   "outputs": [
    {
     "data": {
      "text/latex": [
       "$\\displaystyle R_{(0, 0, 90)} = 30.79$"
      ],
      "text/plain": [
       "Eq(R_(0, 0, 90), 30.79)"
      ]
     },
     "metadata": {},
     "output_type": "display_data"
    },
    {
     "data": {
      "text/latex": [
       "$\\displaystyle R_{(10, 0, 90)} = 38.21$"
      ],
      "text/plain": [
       "Eq(R_(10, 0, 90), 38.21)"
      ]
     },
     "metadata": {},
     "output_type": "display_data"
    },
    {
     "data": {
      "text/latex": [
       "$\\displaystyle R_{(5, 5, 0)} = -50.0$"
      ],
      "text/plain": [
       "Eq(R_(5, 5, 0), -50.0)"
      ]
     },
     "metadata": {},
     "output_type": "display_data"
    }
   ],
   "source": [
    "from gleichgewicht import Actionforce, Actionmoment, Reactionforce, Reactionmoment, System, Plot\n",
    "\n",
    "\n",
    "\n",
    "einwirkungen_kraefte = [Actionforce(-15,90, 1.5,0), Actionforce(50, 90, 3,0), Actionforce(-104, 90, 7.4, 0), Actionforce(50, 0,10,0)]\n",
    "einwirkungen_momente = [Actionmoment(10, 0,0)]\n",
    "reaktionen_kraefte = [Reactionforce(90, 0, 0), Reactionforce(90, 10,0), Reactionforce(0,5,5)]\n",
    "\n",
    "system_1 = System(actionforces=einwirkungen_kraefte, reactionforces=reaktionen_kraefte, actionmoments=einwirkungen_momente)\n",
    "system_1.calculate_reaction_force()\n",
    "\n",
    "\n",
    "Plot(system_1).plot_forces_and_moments()\n"
   ]
  },
  {
   "cell_type": "code",
   "execution_count": 3,
   "metadata": {},
   "outputs": [
    {
     "data": {
      "text/latex": [
       "$\\displaystyle R_{(0, 0, 0)} = -50.0$"
      ],
      "text/plain": [
       "Eq(R_(0, 0, 0), -50.0)"
      ]
     },
     "metadata": {},
     "output_type": "display_data"
    },
    {
     "data": {
      "text/latex": [
       "$\\displaystyle R_{(0, 0, 90)} = -28.66$"
      ],
      "text/plain": [
       "Eq(R_(0, 0, 90), -28.66)"
      ]
     },
     "metadata": {},
     "output_type": "display_data"
    },
    {
     "data": {
      "text/latex": [
       "$\\displaystyle R_{(10, 0, 90)} = 60.66$"
      ],
      "text/plain": [
       "Eq(R_(10, 0, 90), 60.66)"
      ]
     },
     "metadata": {},
     "output_type": "display_data"
    }
   ],
   "source": [
    "einwirkungen_kraefte = [Actionforce(22,90, 1.5,0), Actionforce(50, 90, 3,0), Actionforce(-104, 90, 7.4, 0), Actionforce(50, 0,10,0)]\n",
    "einwirkungen_momente = [Actionmoment(10, 0,0), Actionmoment(-30, 10,0)]\n",
    "reaktionen_kraefte = [Reactionforce(90, 0, 0), Reactionforce(90, 10,0), Reactionforce(0,0,0)]\n",
    "\n",
    "system_2 = System(actionforces=einwirkungen_kraefte, reactionforces=reaktionen_kraefte, actionmoments=einwirkungen_momente)\n",
    "system_2.calculate_reaction_force()\n",
    "\n",
    "\n",
    "Plot(system_2).plot_forces_and_moments()"
   ]
  },
  {
   "cell_type": "code",
   "execution_count": 4,
   "metadata": {},
   "outputs": [
    {
     "data": {
      "text/latex": [
       "$\\displaystyle R_{(0, 0, 0)} = 0$"
      ],
      "text/plain": [
       "Eq(R_(0, 0, 0), 0)"
      ]
     },
     "metadata": {},
     "output_type": "display_data"
    },
    {
     "data": {
      "text/latex": [
       "$\\displaystyle R_{(0, 0, 90)} = -15.4$"
      ],
      "text/plain": [
       "Eq(R_(0, 0, 90), -15.4)"
      ]
     },
     "metadata": {},
     "output_type": "display_data"
    },
    {
     "data": {
      "text/latex": [
       "$\\displaystyle R_{(10, 0, 90)} = -6.6$"
      ],
      "text/plain": [
       "Eq(R_(10, 0, 90), -6.6)"
      ]
     },
     "metadata": {},
     "output_type": "display_data"
    }
   ],
   "source": [
    "einwirkungen_kraefte = [Actionforce(22,90, 3,0)]\n",
    "einwirkungen_momente = [Actionmoment(10, 0,0)]\n",
    "reaktionen_kraefte = [Reactionforce(90, 0, 0), Reactionforce(0, 0, 0), Reactionforce(90, 10, 0)]\n",
    "\n",
    "system_3 = System(actionforces=einwirkungen_kraefte, reactionforces=reaktionen_kraefte)\n",
    "system_3.calculate_reaction_force()\n",
    "\n",
    "\n",
    "Plot(system_3).plot_forces_and_moments()"
   ]
  },
  {
   "cell_type": "code",
   "execution_count": 5,
   "metadata": {},
   "outputs": [
    {
     "data": {
      "text/latex": [
       "$\\displaystyle M_{(1, 0)} = 762.9$"
      ],
      "text/plain": [
       "Eq(M_(1, 0), 762.9)"
      ]
     },
     "metadata": {},
     "output_type": "display_data"
    },
    {
     "data": {
      "text/latex": [
       "$\\displaystyle R_{(0, 0, 0)} = -18.52$"
      ],
      "text/plain": [
       "Eq(R_(0, 0, 0), -18.52)"
      ]
     },
     "metadata": {},
     "output_type": "display_data"
    },
    {
     "data": {
      "text/latex": [
       "$\\displaystyle R_{(0, 0, 90)} = 62.59$"
      ],
      "text/plain": [
       "Eq(R_(0, 0, 90), 62.59)"
      ]
     },
     "metadata": {},
     "output_type": "display_data"
    }
   ],
   "source": [
    "einwirkungen_kraefte = []\n",
    "\n",
    "for i in range(10):\n",
    "    einwirkungen_kraefte.append(Actionforce(10, -90, 5+i, 0))\n",
    "    einwirkungen_kraefte.append(Actionforce(i, i*10, 5,0))\n",
    "\n",
    "\n",
    "einwirkungen_momente = [Actionmoment(0, 0,0), Actionmoment(0, 10,0)]\n",
    "reaktionen_kraefte = [Reactionforce(90, 0, 0), Reactionforce(0,0,0)]\n",
    "reaktionen_moment = [Reactionmoment(1,0)]\n",
    "\n",
    "system_3 = System(actionforces=einwirkungen_kraefte, reactionforces=reaktionen_kraefte, actionmoments=einwirkungen_momente, reactionmoments=reaktionen_moment)\n",
    "system_3.calculate_reaction_force()\n",
    "\n",
    "\n",
    "Plot(system_3).plot_forces_and_moments()"
   ]
  },
  {
   "cell_type": "code",
   "execution_count": 6,
   "metadata": {},
   "outputs": [
    {
     "data": {
      "text/latex": [
       "$\\displaystyle M_{(0, 0)} = 0$"
      ],
      "text/plain": [
       "Eq(M_(0, 0), 0)"
      ]
     },
     "metadata": {},
     "output_type": "display_data"
    },
    {
     "data": {
      "text/latex": [
       "$\\displaystyle R_{(0, 0, 0)} = -50.0$"
      ],
      "text/plain": [
       "Eq(R_(0, 0, 0), -50.0)"
      ]
     },
     "metadata": {},
     "output_type": "display_data"
    },
    {
     "data": {
      "text/latex": [
       "$\\displaystyle R_{(0, 0, 90)} = 0$"
      ],
      "text/plain": [
       "Eq(R_(0, 0, 90), 0)"
      ]
     },
     "metadata": {},
     "output_type": "display_data"
    }
   ],
   "source": [
    "import matplotlib.pyplot as plt\n",
    "import numpy as np\n",
    "\n",
    "def circle_coords(radius=1.0, center=(0, 0), num_points=100):\n",
    "    \"\"\"\n",
    "    Plot a circle with the specified radius and center.\n",
    "\n",
    "    Args:\n",
    "        radius (float): Radius of the circle.\n",
    "        center (tuple): Center coordinates of the circle as a tuple (x, y).\n",
    "        num_points (int): Number of points to use for the circle's circumference.\n",
    "\n",
    "    Returns:\n",
    "        None\n",
    "    \"\"\"\n",
    "    theta = np.linspace(0, 2 * np.pi, num_points)\n",
    "    x = center[0] + radius * np.cos(theta)\n",
    "    y = center[1] + radius * np.sin(theta)\n",
    "    return x, y, theta\n",
    "\n",
    "x_kreis, y_kreis, thetas = circle_coords(radius=2, center=(0,0),num_points=20)\n",
    "einwirkungen_kraefte = []\n",
    "\n",
    "\n",
    "for x, y, theta in zip(x_kreis, y_kreis, thetas):\n",
    "    einwirkungen_kraefte.append(Actionforce(50, np.degrees(theta), x,y))\n",
    "\n",
    "    \n",
    "\n",
    "\n",
    "reaktionen_kraefte = [Reactionforce(90, 0, 0), Reactionforce(0, 0, 0)]\n",
    "reaktionen_moment = [Reactionmoment(0,0)]\n",
    "\n",
    "system_4 = System(actionforces=einwirkungen_kraefte, reactionforces=reaktionen_kraefte,  reactionmoments=reaktionen_moment)\n",
    "system_4.calculate_reaction_force()\n",
    "\n",
    "\n",
    "Plot(system_4).plot_forces_and_moments()"
   ]
  },
  {
   "cell_type": "markdown",
   "metadata": {},
   "source": [
    "# Übung 1.09a"
   ]
  },
  {
   "cell_type": "code",
   "execution_count": 7,
   "metadata": {},
   "outputs": [
    {
     "data": {
      "text/latex": [
       "$\\displaystyle R_{(0, 0, 0)} = 17.5$"
      ],
      "text/plain": [
       "Eq(R_(0, 0, 0), 17.5)"
      ]
     },
     "metadata": {},
     "output_type": "display_data"
    },
    {
     "data": {
      "text/latex": [
       "$\\displaystyle R_{(0, 0, 90)} = 21.86$"
      ],
      "text/plain": [
       "Eq(R_(0, 0, 90), 21.86)"
      ]
     },
     "metadata": {},
     "output_type": "display_data"
    },
    {
     "data": {
      "text/latex": [
       "$\\displaystyle R_{(10, 0, 90)} = 23.45$"
      ],
      "text/plain": [
       "Eq(R_(10, 0, 90), 23.45)"
      ]
     },
     "metadata": {},
     "output_type": "display_data"
    }
   ],
   "source": [
    "einwirkungen_kraefte = [Actionforce(15, -90, 2.5,0), Actionforce(-35,60,6.5,0)]\n",
    "reaktionen_kraefte = [Reactionforce(90, 0, 0), Reactionforce(0, 0, 0), Reactionforce(90, 10, 0)]\n",
    "\n",
    "system_5 = System(actionforces=einwirkungen_kraefte, reactionforces=reaktionen_kraefte)\n",
    "system_5.calculate_reaction_force()\n",
    "\n",
    "\n",
    "Plot(system_5).plot_forces_and_moments()\n",
    "\n"
   ]
  },
  {
   "cell_type": "markdown",
   "metadata": {},
   "source": [
    "# Übung 1.09b"
   ]
  },
  {
   "cell_type": "code",
   "execution_count": 8,
   "metadata": {},
   "outputs": [
    {
     "data": {
      "text/latex": [
       "$\\displaystyle R_{(0, 0, 180)} = -3.0$"
      ],
      "text/plain": [
       "Eq(R_(0, 0, 180), -3.0)"
      ]
     },
     "metadata": {},
     "output_type": "display_data"
    },
    {
     "data": {
      "text/latex": [
       "$\\displaystyle R_{(0, 0, 90)} = 10.0$"
      ],
      "text/plain": [
       "Eq(R_(0, 0, 90), 10.0)"
      ]
     },
     "metadata": {},
     "output_type": "display_data"
    },
    {
     "data": {
      "text/latex": [
       "$\\displaystyle R_{(0, 5, 0)} = -8.0$"
      ],
      "text/plain": [
       "Eq(R_(0, 5, 0), -8.0)"
      ]
     },
     "metadata": {},
     "output_type": "display_data"
    }
   ],
   "source": [
    "h = 5\n",
    "F = 10\n",
    "\n",
    "einwirkungen_kraefte = [Actionforce(F, 270, h/2,3/5*h), Actionforce(F/2,0,h/2,3/5*h)]\n",
    "reaktionen_kraefte = [Reactionforce(90, 0, 0), Reactionforce(180, 0, 0), Reactionforce(0, 0, h)]\n",
    "\n",
    "system_6 = System(actionforces=einwirkungen_kraefte, reactionforces=reaktionen_kraefte)\n",
    "system_6.calculate_reaction_force()\n",
    "\n",
    "\n",
    "Plot(system_6).plot_forces_and_moments()\n",
    "\n"
   ]
  },
  {
   "cell_type": "markdown",
   "metadata": {},
   "source": [
    "# Übung 1.07"
   ]
  },
  {
   "cell_type": "code",
   "execution_count": 9,
   "metadata": {},
   "outputs": [
    {
     "data": {
      "text/latex": [
       "$\\displaystyle R_{(0, 2, 90)} = -90.0$"
      ],
      "text/plain": [
       "Eq(R_(0, 2, 90), -90.0)"
      ]
     },
     "metadata": {},
     "output_type": "display_data"
    },
    {
     "data": {
      "text/latex": [
       "$\\displaystyle R_{(4, 2, -45)} = -254.6$"
      ],
      "text/plain": [
       "Eq(R_(4, 2, -45), -254.6)"
      ]
     },
     "metadata": {},
     "output_type": "display_data"
    },
    {
     "data": {
      "text/latex": [
       "$\\displaystyle R_{(4, 5, 0)} = 180.0$"
      ],
      "text/plain": [
       "Eq(R_(4, 5, 0), 180.0)"
      ]
     },
     "metadata": {},
     "output_type": "display_data"
    }
   ],
   "source": [
    "\n",
    "einwirkungen_kraefte = [Actionforce(4*3*25*0.3, -90, 2,3.5)]\n",
    "reaktionen_kraefte = [Reactionforce(90, 0, 2), Reactionforce(-45, 4, 2), Reactionforce(0, 4, 5)]\n",
    "\n",
    "system_6 = System(actionforces=einwirkungen_kraefte, reactionforces=reaktionen_kraefte)\n",
    "system_6.calculate_reaction_force()\n",
    "\n",
    "\n",
    "Plot(system_6).plot_forces_and_moments()\n"
   ]
  },
  {
   "cell_type": "markdown",
   "metadata": {},
   "source": [
    "# Übung 1.08"
   ]
  },
  {
   "cell_type": "code",
   "execution_count": 10,
   "metadata": {},
   "outputs": [
    {
     "data": {
      "text/latex": [
       "$\\displaystyle R_{(0, 0, 45)} = 634.9$"
      ],
      "text/plain": [
       "Eq(R_(0, 0, 45), 634.9)"
      ]
     },
     "metadata": {},
     "output_type": "display_data"
    },
    {
     "data": {
      "text/latex": [
       "$\\displaystyle R_{(14, 0, 104)} = 25.33$"
      ],
      "text/plain": [
       "Eq(R_(14, 0, 104), 25.33)"
      ]
     },
     "metadata": {},
     "output_type": "display_data"
    },
    {
     "data": {
      "text/latex": [
       "$\\displaystyle R_{(16, 5, 0)} = -559.0$"
      ],
      "text/plain": [
       "Eq(R_(16, 5, 0), -559.0)"
      ]
     },
     "metadata": {},
     "output_type": "display_data"
    }
   ],
   "source": [
    "F_1 = 120\n",
    "F_2 = 100\n",
    "F_3 = 170\n",
    "F_G = 250\n",
    "\n",
    "\n",
    "einwirkungen_kraefte = [Actionforce(F_1, 0, 0,4), Actionforce(-F_2, 135, 1, 6), Actionforce(-F_3, 64, 4,6), Actionforce(F_G, -90,8,3)]\n",
    "reaktionen_kraefte = [Reactionforce(45, 0, 0), Reactionforce(104, 14, 0), Reactionforce(0, 16, 5)]\n",
    "\n",
    "system_7 = System(actionforces=einwirkungen_kraefte, reactionforces=reaktionen_kraefte)\n",
    "\n",
    "\n",
    "system_7.calculate_reaction_force()\n",
    "\n",
    "\n",
    "Plot(system_7).plot_forces_and_moments()"
   ]
  }
 ],
 "metadata": {
  "kernelspec": {
   "display_name": "bs1",
   "language": "python",
   "name": "python3"
  },
  "language_info": {
   "codemirror_mode": {
    "name": "ipython",
    "version": 3
   },
   "file_extension": ".py",
   "mimetype": "text/x-python",
   "name": "python",
   "nbconvert_exporter": "python",
   "pygments_lexer": "ipython3",
   "version": "3.11.5"
  },
  "orig_nbformat": 4
 },
 "nbformat": 4,
 "nbformat_minor": 2
}
